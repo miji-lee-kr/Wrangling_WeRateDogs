{
 "cells": [
  {
   "cell_type": "markdown",
   "id": "7e4fbf21",
   "metadata": {},
   "source": [
    "### Project Outline\n",
    "This project is to deeply understand dog-rating tweets posted on \"We Rate Dogs\", as a part of data wrangling project at Udacity. The datasets consist of three tables- Archived tweets, Image prediction, and JSON file which has been gathered via Twitter API.\n",
    "\n",
    "The project process is as follow; Gathering data, Visual & Programmatic assessment, Data cleaning and Analysis.\n",
    "\n",
    "### Gathering Data"
   ]
  },
  {
   "cell_type": "code",
   "execution_count": 1,
   "id": "1ce05e55",
   "metadata": {},
   "outputs": [],
   "source": [
    "import tweepy\n",
    "from tweepy import OAuthHandler\n",
    "import pandas as pd\n",
    "import numpy as np\n",
    "import requests\n",
    "import json\n",
    "from timeit import default_timer as timer"
   ]
  },
  {
   "cell_type": "code",
   "execution_count": 2,
   "id": "ab5094b3",
   "metadata": {},
   "outputs": [],
   "source": [
    "twit_arc_raw = pd.read_csv('twitter-archive-enhanced.csv')"
   ]
  },
  {
   "cell_type": "code",
   "execution_count": 3,
   "id": "959ce271",
   "metadata": {},
   "outputs": [],
   "source": [
    "url = 'https://d17h27t6h515a5.cloudfront.net/topher/2017/August/599fd2ad_image-predictions/image-predictions.tsv'\n",
    "response = requests.get(url)\n",
    "\n",
    "with open (url.split('/')[-1], mode='wb') as file:\n",
    "    file.write(response.content)"
   ]
  },
  {
   "cell_type": "code",
   "execution_count": 4,
   "id": "a31c33f1",
   "metadata": {},
   "outputs": [],
   "source": [
    "predict_raw = pd.read_csv('image-predictions.tsv', sep='\\t')"
   ]
  },
  {
   "cell_type": "code",
   "execution_count": null,
   "id": "f8e6bf80",
   "metadata": {},
   "outputs": [],
   "source": [
    "consumer_key = 'HIDDEN'\n",
    "consumer_secret = 'HIDDEN'\n",
    "access_token = 'HIDDEN'\n",
    "access_secret = 'HIDDEN'\n",
    "\n",
    "auth = OAuthHandler(consumer_key, consumer_secret)\n",
    "auth.set_access_token(access_token, access_secret)\n",
    "\n",
    "api = tweepy.API(auth, wait_on_rate_limit=True)\n",
    "\n",
    "tweet_ids = twit_arc_raw.tweet_id.values\n",
    "len(tweet_ids)\n",
    "\n",
    "# Query Twitter's API for JSON data for each tweet ID in the Twitter archive\n",
    "count = 0\n",
    "fails_dict = {}\n",
    "start = timer()\n",
    "# Save each tweet's returned JSON as a new line in a .txt file\n",
    "with open('tweet_json.txt', 'w') as outfile:\n",
    "    # This loop will likely take 20-30 minutes to run because of Twitter's rate limit\n",
    "    for tweet_id in tweet_ids:\n",
    "        count += 1\n",
    "        print(str(count) + \": \" + str(tweet_id))\n",
    "        try:\n",
    "            tweet = api.get_status(tweet_id, tweet_mode='extended')\n",
    "            print(\"Success\")\n",
    "            json.dump(tweet._json, outfile)\n",
    "            outfile.write('\\n')\n",
    "        except tweepy.TweepError as e:\n",
    "            print(\"Fail\")\n",
    "            fails_dict[tweet_id] = e\n",
    "            pass\n",
    "end = timer()\n",
    "print(end - start)\n",
    "print(fails_dict)"
   ]
  },
  {
   "cell_type": "code",
   "execution_count": 5,
   "id": "ed78979e",
   "metadata": {},
   "outputs": [],
   "source": [
    "twit_json_raw = pd.read_json('tweet-json.txt', lines=True)"
   ]
  },
  {
   "cell_type": "markdown",
   "id": "4ea28daf",
   "metadata": {},
   "source": [
    "### Visual Assessment"
   ]
  },
  {
   "cell_type": "code",
   "execution_count": 6,
   "id": "c453ae3c",
   "metadata": {},
   "outputs": [],
   "source": [
    "twit_arc = twit_arc_raw.copy()"
   ]
  },
  {
   "cell_type": "code",
   "execution_count": 7,
   "id": "3358ef24",
   "metadata": {},
   "outputs": [],
   "source": [
    "predict = predict_raw.copy()"
   ]
  },
  {
   "cell_type": "code",
   "execution_count": 8,
   "id": "63a9b3df",
   "metadata": {},
   "outputs": [],
   "source": [
    "twit_json = twit_json_raw.copy()"
   ]
  },
  {
   "cell_type": "code",
   "execution_count": 9,
   "id": "97c6d1f8",
   "metadata": {},
   "outputs": [
    {
     "data": {
      "text/html": [
       "<div>\n",
       "<style scoped>\n",
       "    .dataframe tbody tr th:only-of-type {\n",
       "        vertical-align: middle;\n",
       "    }\n",
       "\n",
       "    .dataframe tbody tr th {\n",
       "        vertical-align: top;\n",
       "    }\n",
       "\n",
       "    .dataframe thead th {\n",
       "        text-align: right;\n",
       "    }\n",
       "</style>\n",
       "<table border=\"1\" class=\"dataframe\">\n",
       "  <thead>\n",
       "    <tr style=\"text-align: right;\">\n",
       "      <th></th>\n",
       "      <th>tweet_id</th>\n",
       "      <th>in_reply_to_status_id</th>\n",
       "      <th>in_reply_to_user_id</th>\n",
       "      <th>timestamp</th>\n",
       "      <th>source</th>\n",
       "      <th>text</th>\n",
       "      <th>retweeted_status_id</th>\n",
       "      <th>retweeted_status_user_id</th>\n",
       "      <th>retweeted_status_timestamp</th>\n",
       "      <th>expanded_urls</th>\n",
       "      <th>rating_numerator</th>\n",
       "      <th>rating_denominator</th>\n",
       "      <th>name</th>\n",
       "      <th>doggo</th>\n",
       "      <th>floofer</th>\n",
       "      <th>pupper</th>\n",
       "      <th>puppo</th>\n",
       "    </tr>\n",
       "  </thead>\n",
       "  <tbody>\n",
       "    <tr>\n",
       "      <th>0</th>\n",
       "      <td>892420643555336193</td>\n",
       "      <td>NaN</td>\n",
       "      <td>NaN</td>\n",
       "      <td>2017-08-01 16:23:56 +0000</td>\n",
       "      <td>&lt;a href=\"http://twitter.com/download/iphone\" r...</td>\n",
       "      <td>This is Phineas. He's a mystical boy. Only eve...</td>\n",
       "      <td>NaN</td>\n",
       "      <td>NaN</td>\n",
       "      <td>NaN</td>\n",
       "      <td>https://twitter.com/dog_rates/status/892420643...</td>\n",
       "      <td>13</td>\n",
       "      <td>10</td>\n",
       "      <td>Phineas</td>\n",
       "      <td>None</td>\n",
       "      <td>None</td>\n",
       "      <td>None</td>\n",
       "      <td>None</td>\n",
       "    </tr>\n",
       "    <tr>\n",
       "      <th>1</th>\n",
       "      <td>892177421306343426</td>\n",
       "      <td>NaN</td>\n",
       "      <td>NaN</td>\n",
       "      <td>2017-08-01 00:17:27 +0000</td>\n",
       "      <td>&lt;a href=\"http://twitter.com/download/iphone\" r...</td>\n",
       "      <td>This is Tilly. She's just checking pup on you....</td>\n",
       "      <td>NaN</td>\n",
       "      <td>NaN</td>\n",
       "      <td>NaN</td>\n",
       "      <td>https://twitter.com/dog_rates/status/892177421...</td>\n",
       "      <td>13</td>\n",
       "      <td>10</td>\n",
       "      <td>Tilly</td>\n",
       "      <td>None</td>\n",
       "      <td>None</td>\n",
       "      <td>None</td>\n",
       "      <td>None</td>\n",
       "    </tr>\n",
       "    <tr>\n",
       "      <th>2</th>\n",
       "      <td>891815181378084864</td>\n",
       "      <td>NaN</td>\n",
       "      <td>NaN</td>\n",
       "      <td>2017-07-31 00:18:03 +0000</td>\n",
       "      <td>&lt;a href=\"http://twitter.com/download/iphone\" r...</td>\n",
       "      <td>This is Archie. He is a rare Norwegian Pouncin...</td>\n",
       "      <td>NaN</td>\n",
       "      <td>NaN</td>\n",
       "      <td>NaN</td>\n",
       "      <td>https://twitter.com/dog_rates/status/891815181...</td>\n",
       "      <td>12</td>\n",
       "      <td>10</td>\n",
       "      <td>Archie</td>\n",
       "      <td>None</td>\n",
       "      <td>None</td>\n",
       "      <td>None</td>\n",
       "      <td>None</td>\n",
       "    </tr>\n",
       "    <tr>\n",
       "      <th>3</th>\n",
       "      <td>891689557279858688</td>\n",
       "      <td>NaN</td>\n",
       "      <td>NaN</td>\n",
       "      <td>2017-07-30 15:58:51 +0000</td>\n",
       "      <td>&lt;a href=\"http://twitter.com/download/iphone\" r...</td>\n",
       "      <td>This is Darla. She commenced a snooze mid meal...</td>\n",
       "      <td>NaN</td>\n",
       "      <td>NaN</td>\n",
       "      <td>NaN</td>\n",
       "      <td>https://twitter.com/dog_rates/status/891689557...</td>\n",
       "      <td>13</td>\n",
       "      <td>10</td>\n",
       "      <td>Darla</td>\n",
       "      <td>None</td>\n",
       "      <td>None</td>\n",
       "      <td>None</td>\n",
       "      <td>None</td>\n",
       "    </tr>\n",
       "    <tr>\n",
       "      <th>4</th>\n",
       "      <td>891327558926688256</td>\n",
       "      <td>NaN</td>\n",
       "      <td>NaN</td>\n",
       "      <td>2017-07-29 16:00:24 +0000</td>\n",
       "      <td>&lt;a href=\"http://twitter.com/download/iphone\" r...</td>\n",
       "      <td>This is Franklin. He would like you to stop ca...</td>\n",
       "      <td>NaN</td>\n",
       "      <td>NaN</td>\n",
       "      <td>NaN</td>\n",
       "      <td>https://twitter.com/dog_rates/status/891327558...</td>\n",
       "      <td>12</td>\n",
       "      <td>10</td>\n",
       "      <td>Franklin</td>\n",
       "      <td>None</td>\n",
       "      <td>None</td>\n",
       "      <td>None</td>\n",
       "      <td>None</td>\n",
       "    </tr>\n",
       "  </tbody>\n",
       "</table>\n",
       "</div>"
      ],
      "text/plain": [
       "             tweet_id  in_reply_to_status_id  in_reply_to_user_id  \\\n",
       "0  892420643555336193                    NaN                  NaN   \n",
       "1  892177421306343426                    NaN                  NaN   \n",
       "2  891815181378084864                    NaN                  NaN   \n",
       "3  891689557279858688                    NaN                  NaN   \n",
       "4  891327558926688256                    NaN                  NaN   \n",
       "\n",
       "                   timestamp  \\\n",
       "0  2017-08-01 16:23:56 +0000   \n",
       "1  2017-08-01 00:17:27 +0000   \n",
       "2  2017-07-31 00:18:03 +0000   \n",
       "3  2017-07-30 15:58:51 +0000   \n",
       "4  2017-07-29 16:00:24 +0000   \n",
       "\n",
       "                                              source  \\\n",
       "0  <a href=\"http://twitter.com/download/iphone\" r...   \n",
       "1  <a href=\"http://twitter.com/download/iphone\" r...   \n",
       "2  <a href=\"http://twitter.com/download/iphone\" r...   \n",
       "3  <a href=\"http://twitter.com/download/iphone\" r...   \n",
       "4  <a href=\"http://twitter.com/download/iphone\" r...   \n",
       "\n",
       "                                                text  retweeted_status_id  \\\n",
       "0  This is Phineas. He's a mystical boy. Only eve...                  NaN   \n",
       "1  This is Tilly. She's just checking pup on you....                  NaN   \n",
       "2  This is Archie. He is a rare Norwegian Pouncin...                  NaN   \n",
       "3  This is Darla. She commenced a snooze mid meal...                  NaN   \n",
       "4  This is Franklin. He would like you to stop ca...                  NaN   \n",
       "\n",
       "   retweeted_status_user_id retweeted_status_timestamp  \\\n",
       "0                       NaN                        NaN   \n",
       "1                       NaN                        NaN   \n",
       "2                       NaN                        NaN   \n",
       "3                       NaN                        NaN   \n",
       "4                       NaN                        NaN   \n",
       "\n",
       "                                       expanded_urls  rating_numerator  \\\n",
       "0  https://twitter.com/dog_rates/status/892420643...                13   \n",
       "1  https://twitter.com/dog_rates/status/892177421...                13   \n",
       "2  https://twitter.com/dog_rates/status/891815181...                12   \n",
       "3  https://twitter.com/dog_rates/status/891689557...                13   \n",
       "4  https://twitter.com/dog_rates/status/891327558...                12   \n",
       "\n",
       "   rating_denominator      name doggo floofer pupper puppo  \n",
       "0                  10   Phineas  None    None   None  None  \n",
       "1                  10     Tilly  None    None   None  None  \n",
       "2                  10    Archie  None    None   None  None  \n",
       "3                  10     Darla  None    None   None  None  \n",
       "4                  10  Franklin  None    None   None  None  "
      ]
     },
     "execution_count": 9,
     "metadata": {},
     "output_type": "execute_result"
    }
   ],
   "source": [
    "twit_arc.head()"
   ]
  },
  {
   "cell_type": "code",
   "execution_count": 10,
   "id": "ac94c76c",
   "metadata": {},
   "outputs": [
    {
     "data": {
      "text/html": [
       "<div>\n",
       "<style scoped>\n",
       "    .dataframe tbody tr th:only-of-type {\n",
       "        vertical-align: middle;\n",
       "    }\n",
       "\n",
       "    .dataframe tbody tr th {\n",
       "        vertical-align: top;\n",
       "    }\n",
       "\n",
       "    .dataframe thead th {\n",
       "        text-align: right;\n",
       "    }\n",
       "</style>\n",
       "<table border=\"1\" class=\"dataframe\">\n",
       "  <thead>\n",
       "    <tr style=\"text-align: right;\">\n",
       "      <th></th>\n",
       "      <th>tweet_id</th>\n",
       "      <th>jpg_url</th>\n",
       "      <th>img_num</th>\n",
       "      <th>p1</th>\n",
       "      <th>p1_conf</th>\n",
       "      <th>p1_dog</th>\n",
       "      <th>p2</th>\n",
       "      <th>p2_conf</th>\n",
       "      <th>p2_dog</th>\n",
       "      <th>p3</th>\n",
       "      <th>p3_conf</th>\n",
       "      <th>p3_dog</th>\n",
       "    </tr>\n",
       "  </thead>\n",
       "  <tbody>\n",
       "    <tr>\n",
       "      <th>0</th>\n",
       "      <td>666020888022790149</td>\n",
       "      <td>https://pbs.twimg.com/media/CT4udn0WwAA0aMy.jpg</td>\n",
       "      <td>1</td>\n",
       "      <td>Welsh_springer_spaniel</td>\n",
       "      <td>0.465074</td>\n",
       "      <td>True</td>\n",
       "      <td>collie</td>\n",
       "      <td>0.156665</td>\n",
       "      <td>True</td>\n",
       "      <td>Shetland_sheepdog</td>\n",
       "      <td>0.061428</td>\n",
       "      <td>True</td>\n",
       "    </tr>\n",
       "    <tr>\n",
       "      <th>1</th>\n",
       "      <td>666029285002620928</td>\n",
       "      <td>https://pbs.twimg.com/media/CT42GRgUYAA5iDo.jpg</td>\n",
       "      <td>1</td>\n",
       "      <td>redbone</td>\n",
       "      <td>0.506826</td>\n",
       "      <td>True</td>\n",
       "      <td>miniature_pinscher</td>\n",
       "      <td>0.074192</td>\n",
       "      <td>True</td>\n",
       "      <td>Rhodesian_ridgeback</td>\n",
       "      <td>0.072010</td>\n",
       "      <td>True</td>\n",
       "    </tr>\n",
       "    <tr>\n",
       "      <th>2</th>\n",
       "      <td>666033412701032449</td>\n",
       "      <td>https://pbs.twimg.com/media/CT4521TWwAEvMyu.jpg</td>\n",
       "      <td>1</td>\n",
       "      <td>German_shepherd</td>\n",
       "      <td>0.596461</td>\n",
       "      <td>True</td>\n",
       "      <td>malinois</td>\n",
       "      <td>0.138584</td>\n",
       "      <td>True</td>\n",
       "      <td>bloodhound</td>\n",
       "      <td>0.116197</td>\n",
       "      <td>True</td>\n",
       "    </tr>\n",
       "    <tr>\n",
       "      <th>3</th>\n",
       "      <td>666044226329800704</td>\n",
       "      <td>https://pbs.twimg.com/media/CT5Dr8HUEAA-lEu.jpg</td>\n",
       "      <td>1</td>\n",
       "      <td>Rhodesian_ridgeback</td>\n",
       "      <td>0.408143</td>\n",
       "      <td>True</td>\n",
       "      <td>redbone</td>\n",
       "      <td>0.360687</td>\n",
       "      <td>True</td>\n",
       "      <td>miniature_pinscher</td>\n",
       "      <td>0.222752</td>\n",
       "      <td>True</td>\n",
       "    </tr>\n",
       "    <tr>\n",
       "      <th>4</th>\n",
       "      <td>666049248165822465</td>\n",
       "      <td>https://pbs.twimg.com/media/CT5IQmsXIAAKY4A.jpg</td>\n",
       "      <td>1</td>\n",
       "      <td>miniature_pinscher</td>\n",
       "      <td>0.560311</td>\n",
       "      <td>True</td>\n",
       "      <td>Rottweiler</td>\n",
       "      <td>0.243682</td>\n",
       "      <td>True</td>\n",
       "      <td>Doberman</td>\n",
       "      <td>0.154629</td>\n",
       "      <td>True</td>\n",
       "    </tr>\n",
       "  </tbody>\n",
       "</table>\n",
       "</div>"
      ],
      "text/plain": [
       "             tweet_id                                          jpg_url  \\\n",
       "0  666020888022790149  https://pbs.twimg.com/media/CT4udn0WwAA0aMy.jpg   \n",
       "1  666029285002620928  https://pbs.twimg.com/media/CT42GRgUYAA5iDo.jpg   \n",
       "2  666033412701032449  https://pbs.twimg.com/media/CT4521TWwAEvMyu.jpg   \n",
       "3  666044226329800704  https://pbs.twimg.com/media/CT5Dr8HUEAA-lEu.jpg   \n",
       "4  666049248165822465  https://pbs.twimg.com/media/CT5IQmsXIAAKY4A.jpg   \n",
       "\n",
       "   img_num                      p1   p1_conf  p1_dog                  p2  \\\n",
       "0        1  Welsh_springer_spaniel  0.465074    True              collie   \n",
       "1        1                 redbone  0.506826    True  miniature_pinscher   \n",
       "2        1         German_shepherd  0.596461    True            malinois   \n",
       "3        1     Rhodesian_ridgeback  0.408143    True             redbone   \n",
       "4        1      miniature_pinscher  0.560311    True          Rottweiler   \n",
       "\n",
       "    p2_conf  p2_dog                   p3   p3_conf  p3_dog  \n",
       "0  0.156665    True    Shetland_sheepdog  0.061428    True  \n",
       "1  0.074192    True  Rhodesian_ridgeback  0.072010    True  \n",
       "2  0.138584    True           bloodhound  0.116197    True  \n",
       "3  0.360687    True   miniature_pinscher  0.222752    True  \n",
       "4  0.243682    True             Doberman  0.154629    True  "
      ]
     },
     "execution_count": 10,
     "metadata": {},
     "output_type": "execute_result"
    }
   ],
   "source": [
    "predict.head()"
   ]
  },
  {
   "cell_type": "code",
   "execution_count": 11,
   "id": "7ec93c84",
   "metadata": {},
   "outputs": [
    {
     "data": {
      "text/html": [
       "<div>\n",
       "<style scoped>\n",
       "    .dataframe tbody tr th:only-of-type {\n",
       "        vertical-align: middle;\n",
       "    }\n",
       "\n",
       "    .dataframe tbody tr th {\n",
       "        vertical-align: top;\n",
       "    }\n",
       "\n",
       "    .dataframe thead th {\n",
       "        text-align: right;\n",
       "    }\n",
       "</style>\n",
       "<table border=\"1\" class=\"dataframe\">\n",
       "  <thead>\n",
       "    <tr style=\"text-align: right;\">\n",
       "      <th></th>\n",
       "      <th>created_at</th>\n",
       "      <th>id</th>\n",
       "      <th>id_str</th>\n",
       "      <th>full_text</th>\n",
       "      <th>truncated</th>\n",
       "      <th>display_text_range</th>\n",
       "      <th>entities</th>\n",
       "      <th>extended_entities</th>\n",
       "      <th>source</th>\n",
       "      <th>in_reply_to_status_id</th>\n",
       "      <th>...</th>\n",
       "      <th>favorite_count</th>\n",
       "      <th>favorited</th>\n",
       "      <th>retweeted</th>\n",
       "      <th>possibly_sensitive</th>\n",
       "      <th>possibly_sensitive_appealable</th>\n",
       "      <th>lang</th>\n",
       "      <th>retweeted_status</th>\n",
       "      <th>quoted_status_id</th>\n",
       "      <th>quoted_status_id_str</th>\n",
       "      <th>quoted_status</th>\n",
       "    </tr>\n",
       "  </thead>\n",
       "  <tbody>\n",
       "    <tr>\n",
       "      <th>0</th>\n",
       "      <td>2017-08-01 16:23:56+00:00</td>\n",
       "      <td>892420643555336193</td>\n",
       "      <td>892420643555336192</td>\n",
       "      <td>This is Phineas. He's a mystical boy. Only eve...</td>\n",
       "      <td>False</td>\n",
       "      <td>[0, 85]</td>\n",
       "      <td>{'hashtags': [], 'symbols': [], 'user_mentions...</td>\n",
       "      <td>{'media': [{'id': 892420639486877696, 'id_str'...</td>\n",
       "      <td>&lt;a href=\"http://twitter.com/download/iphone\" r...</td>\n",
       "      <td>NaN</td>\n",
       "      <td>...</td>\n",
       "      <td>39467</td>\n",
       "      <td>False</td>\n",
       "      <td>False</td>\n",
       "      <td>0.0</td>\n",
       "      <td>0.0</td>\n",
       "      <td>en</td>\n",
       "      <td>NaN</td>\n",
       "      <td>NaN</td>\n",
       "      <td>NaN</td>\n",
       "      <td>NaN</td>\n",
       "    </tr>\n",
       "    <tr>\n",
       "      <th>1</th>\n",
       "      <td>2017-08-01 00:17:27+00:00</td>\n",
       "      <td>892177421306343426</td>\n",
       "      <td>892177421306343424</td>\n",
       "      <td>This is Tilly. She's just checking pup on you....</td>\n",
       "      <td>False</td>\n",
       "      <td>[0, 138]</td>\n",
       "      <td>{'hashtags': [], 'symbols': [], 'user_mentions...</td>\n",
       "      <td>{'media': [{'id': 892177413194625024, 'id_str'...</td>\n",
       "      <td>&lt;a href=\"http://twitter.com/download/iphone\" r...</td>\n",
       "      <td>NaN</td>\n",
       "      <td>...</td>\n",
       "      <td>33819</td>\n",
       "      <td>False</td>\n",
       "      <td>False</td>\n",
       "      <td>0.0</td>\n",
       "      <td>0.0</td>\n",
       "      <td>en</td>\n",
       "      <td>NaN</td>\n",
       "      <td>NaN</td>\n",
       "      <td>NaN</td>\n",
       "      <td>NaN</td>\n",
       "    </tr>\n",
       "    <tr>\n",
       "      <th>2</th>\n",
       "      <td>2017-07-31 00:18:03+00:00</td>\n",
       "      <td>891815181378084864</td>\n",
       "      <td>891815181378084864</td>\n",
       "      <td>This is Archie. He is a rare Norwegian Pouncin...</td>\n",
       "      <td>False</td>\n",
       "      <td>[0, 121]</td>\n",
       "      <td>{'hashtags': [], 'symbols': [], 'user_mentions...</td>\n",
       "      <td>{'media': [{'id': 891815175371796480, 'id_str'...</td>\n",
       "      <td>&lt;a href=\"http://twitter.com/download/iphone\" r...</td>\n",
       "      <td>NaN</td>\n",
       "      <td>...</td>\n",
       "      <td>25461</td>\n",
       "      <td>False</td>\n",
       "      <td>False</td>\n",
       "      <td>0.0</td>\n",
       "      <td>0.0</td>\n",
       "      <td>en</td>\n",
       "      <td>NaN</td>\n",
       "      <td>NaN</td>\n",
       "      <td>NaN</td>\n",
       "      <td>NaN</td>\n",
       "    </tr>\n",
       "    <tr>\n",
       "      <th>3</th>\n",
       "      <td>2017-07-30 15:58:51+00:00</td>\n",
       "      <td>891689557279858688</td>\n",
       "      <td>891689557279858688</td>\n",
       "      <td>This is Darla. She commenced a snooze mid meal...</td>\n",
       "      <td>False</td>\n",
       "      <td>[0, 79]</td>\n",
       "      <td>{'hashtags': [], 'symbols': [], 'user_mentions...</td>\n",
       "      <td>{'media': [{'id': 891689552724799489, 'id_str'...</td>\n",
       "      <td>&lt;a href=\"http://twitter.com/download/iphone\" r...</td>\n",
       "      <td>NaN</td>\n",
       "      <td>...</td>\n",
       "      <td>42908</td>\n",
       "      <td>False</td>\n",
       "      <td>False</td>\n",
       "      <td>0.0</td>\n",
       "      <td>0.0</td>\n",
       "      <td>en</td>\n",
       "      <td>NaN</td>\n",
       "      <td>NaN</td>\n",
       "      <td>NaN</td>\n",
       "      <td>NaN</td>\n",
       "    </tr>\n",
       "    <tr>\n",
       "      <th>4</th>\n",
       "      <td>2017-07-29 16:00:24+00:00</td>\n",
       "      <td>891327558926688256</td>\n",
       "      <td>891327558926688256</td>\n",
       "      <td>This is Franklin. He would like you to stop ca...</td>\n",
       "      <td>False</td>\n",
       "      <td>[0, 138]</td>\n",
       "      <td>{'hashtags': [{'text': 'BarkWeek', 'indices': ...</td>\n",
       "      <td>{'media': [{'id': 891327551943041024, 'id_str'...</td>\n",
       "      <td>&lt;a href=\"http://twitter.com/download/iphone\" r...</td>\n",
       "      <td>NaN</td>\n",
       "      <td>...</td>\n",
       "      <td>41048</td>\n",
       "      <td>False</td>\n",
       "      <td>False</td>\n",
       "      <td>0.0</td>\n",
       "      <td>0.0</td>\n",
       "      <td>en</td>\n",
       "      <td>NaN</td>\n",
       "      <td>NaN</td>\n",
       "      <td>NaN</td>\n",
       "      <td>NaN</td>\n",
       "    </tr>\n",
       "  </tbody>\n",
       "</table>\n",
       "<p>5 rows × 31 columns</p>\n",
       "</div>"
      ],
      "text/plain": [
       "                 created_at                  id              id_str  \\\n",
       "0 2017-08-01 16:23:56+00:00  892420643555336193  892420643555336192   \n",
       "1 2017-08-01 00:17:27+00:00  892177421306343426  892177421306343424   \n",
       "2 2017-07-31 00:18:03+00:00  891815181378084864  891815181378084864   \n",
       "3 2017-07-30 15:58:51+00:00  891689557279858688  891689557279858688   \n",
       "4 2017-07-29 16:00:24+00:00  891327558926688256  891327558926688256   \n",
       "\n",
       "                                           full_text  truncated  \\\n",
       "0  This is Phineas. He's a mystical boy. Only eve...      False   \n",
       "1  This is Tilly. She's just checking pup on you....      False   \n",
       "2  This is Archie. He is a rare Norwegian Pouncin...      False   \n",
       "3  This is Darla. She commenced a snooze mid meal...      False   \n",
       "4  This is Franklin. He would like you to stop ca...      False   \n",
       "\n",
       "  display_text_range                                           entities  \\\n",
       "0            [0, 85]  {'hashtags': [], 'symbols': [], 'user_mentions...   \n",
       "1           [0, 138]  {'hashtags': [], 'symbols': [], 'user_mentions...   \n",
       "2           [0, 121]  {'hashtags': [], 'symbols': [], 'user_mentions...   \n",
       "3            [0, 79]  {'hashtags': [], 'symbols': [], 'user_mentions...   \n",
       "4           [0, 138]  {'hashtags': [{'text': 'BarkWeek', 'indices': ...   \n",
       "\n",
       "                                   extended_entities  \\\n",
       "0  {'media': [{'id': 892420639486877696, 'id_str'...   \n",
       "1  {'media': [{'id': 892177413194625024, 'id_str'...   \n",
       "2  {'media': [{'id': 891815175371796480, 'id_str'...   \n",
       "3  {'media': [{'id': 891689552724799489, 'id_str'...   \n",
       "4  {'media': [{'id': 891327551943041024, 'id_str'...   \n",
       "\n",
       "                                              source  in_reply_to_status_id  \\\n",
       "0  <a href=\"http://twitter.com/download/iphone\" r...                    NaN   \n",
       "1  <a href=\"http://twitter.com/download/iphone\" r...                    NaN   \n",
       "2  <a href=\"http://twitter.com/download/iphone\" r...                    NaN   \n",
       "3  <a href=\"http://twitter.com/download/iphone\" r...                    NaN   \n",
       "4  <a href=\"http://twitter.com/download/iphone\" r...                    NaN   \n",
       "\n",
       "   ...  favorite_count  favorited  retweeted possibly_sensitive  \\\n",
       "0  ...           39467      False      False                0.0   \n",
       "1  ...           33819      False      False                0.0   \n",
       "2  ...           25461      False      False                0.0   \n",
       "3  ...           42908      False      False                0.0   \n",
       "4  ...           41048      False      False                0.0   \n",
       "\n",
       "  possibly_sensitive_appealable  lang  retweeted_status quoted_status_id  \\\n",
       "0                           0.0    en               NaN              NaN   \n",
       "1                           0.0    en               NaN              NaN   \n",
       "2                           0.0    en               NaN              NaN   \n",
       "3                           0.0    en               NaN              NaN   \n",
       "4                           0.0    en               NaN              NaN   \n",
       "\n",
       "   quoted_status_id_str  quoted_status  \n",
       "0                   NaN            NaN  \n",
       "1                   NaN            NaN  \n",
       "2                   NaN            NaN  \n",
       "3                   NaN            NaN  \n",
       "4                   NaN            NaN  \n",
       "\n",
       "[5 rows x 31 columns]"
      ]
     },
     "execution_count": 11,
     "metadata": {},
     "output_type": "execute_result"
    }
   ],
   "source": [
    "twit_json.head()"
   ]
  },
  {
   "cell_type": "markdown",
   "id": "92ed4df4",
   "metadata": {},
   "source": [
    "### Quality Issues:\n",
    "#### twit_arc\n",
    "- Remove duplicated part in \"expanded_urls\" column\n",
    "- Remove rows with values in \"retweeted_status_id\", \"retweeted_status_user_id\" and \"retweeted_status_timestamp\" columns\n",
    "- Remove HTML tag from \"source\" column\n",
    "\n",
    "#### predict\n",
    "\"P1\", \"P2\", \"P3\" columns should start with upper case letter\n",
    "\n",
    "#### twit_json\n",
    "Remove HTML tag from \"source\" column\n",
    "\n",
    "### Tidiness Issues:\n",
    "#### twit_arc\n",
    "Dog stage (doggo, floofer, pupper, puppo) must be merged into one column.\n",
    "\n",
    "#### twit_json\n",
    "Add the retweet_count and favorite_count columns to the twit_arc, since this data is meant to augment the archived tweet data.\n",
    "\n",
    "#### predict\n",
    "Add breed prediction column to twit_arc as it could give more information on which breed of dog has been posted most.\n",
    "\n",
    "### Programmatic Assessment"
   ]
  },
  {
   "cell_type": "code",
   "execution_count": 12,
   "id": "55623546",
   "metadata": {},
   "outputs": [
    {
     "data": {
      "text/plain": [
       "0"
      ]
     },
     "execution_count": 12,
     "metadata": {},
     "output_type": "execute_result"
    }
   ],
   "source": [
    "# checking for duplicates \n",
    "\n",
    "twit_arc.duplicated().sum()"
   ]
  },
  {
   "cell_type": "code",
   "execution_count": 13,
   "id": "1574aec8",
   "metadata": {},
   "outputs": [
    {
     "data": {
      "text/plain": [
       "0"
      ]
     },
     "execution_count": 13,
     "metadata": {},
     "output_type": "execute_result"
    }
   ],
   "source": [
    "predict.duplicated().sum()"
   ]
  },
  {
   "cell_type": "code",
   "execution_count": 14,
   "id": "2c3e9217",
   "metadata": {},
   "outputs": [
    {
     "data": {
      "text/plain": [
       "0"
      ]
     },
     "execution_count": 14,
     "metadata": {},
     "output_type": "execute_result"
    }
   ],
   "source": [
    "twit_json.id.duplicated().sum()\n",
    "\n",
    "# due to list (display_text_range column) in twit_json, it was impossible to check duplicates in a whole. \n",
    "# so I have checked duplicates for id column instead."
   ]
  },
  {
   "cell_type": "code",
   "execution_count": 15,
   "id": "86433693",
   "metadata": {},
   "outputs": [
    {
     "name": "stdout",
     "output_type": "stream",
     "text": [
      "<class 'pandas.core.frame.DataFrame'>\n",
      "RangeIndex: 2356 entries, 0 to 2355\n",
      "Data columns (total 17 columns):\n",
      " #   Column                      Non-Null Count  Dtype  \n",
      "---  ------                      --------------  -----  \n",
      " 0   tweet_id                    2356 non-null   int64  \n",
      " 1   in_reply_to_status_id       78 non-null     float64\n",
      " 2   in_reply_to_user_id         78 non-null     float64\n",
      " 3   timestamp                   2356 non-null   object \n",
      " 4   source                      2356 non-null   object \n",
      " 5   text                        2356 non-null   object \n",
      " 6   retweeted_status_id         181 non-null    float64\n",
      " 7   retweeted_status_user_id    181 non-null    float64\n",
      " 8   retweeted_status_timestamp  181 non-null    object \n",
      " 9   expanded_urls               2297 non-null   object \n",
      " 10  rating_numerator            2356 non-null   int64  \n",
      " 11  rating_denominator          2356 non-null   int64  \n",
      " 12  name                        2356 non-null   object \n",
      " 13  doggo                       2356 non-null   object \n",
      " 14  floofer                     2356 non-null   object \n",
      " 15  pupper                      2356 non-null   object \n",
      " 16  puppo                       2356 non-null   object \n",
      "dtypes: float64(4), int64(3), object(10)\n",
      "memory usage: 313.0+ KB\n"
     ]
    }
   ],
   "source": [
    "# checking for datatype & missing values\n",
    "\n",
    "twit_arc.info()\n",
    "\n",
    "# we can also see that the number of non-null rows are the same as \"retweeted_status_user_id\", \"retweeted_status_timestamp\".\n",
    "# we have to remove these rows, since our analysis doesn't have to include retweets.\n",
    "# we can simply remove one of the three columns above."
   ]
  },
  {
   "cell_type": "code",
   "execution_count": 16,
   "id": "9ff393ca",
   "metadata": {},
   "outputs": [
    {
     "data": {
      "text/plain": [
       "None        745\n",
       "a            55\n",
       "Charlie      12\n",
       "Oliver       11\n",
       "Cooper       11\n",
       "           ... \n",
       "Napolean      1\n",
       "Striker       1\n",
       "Danny         1\n",
       "Andru         1\n",
       "Vinnie        1\n",
       "Name: name, Length: 957, dtype: int64"
      ]
     },
     "execution_count": 16,
     "metadata": {},
     "output_type": "execute_result"
    }
   ],
   "source": [
    "# checking for wrong names\n",
    "\n",
    "pd.set_option('display.max_rows', 30)\n",
    "twit_arc.name.value_counts()"
   ]
  },
  {
   "cell_type": "code",
   "execution_count": 17,
   "id": "bbdab854",
   "metadata": {},
   "outputs": [
    {
     "data": {
      "text/plain": [
       "a           55\n",
       "the          8\n",
       "an           7\n",
       "not          2\n",
       "actually     2\n",
       "Name: name, dtype: int64"
      ]
     },
     "execution_count": 17,
     "metadata": {},
     "output_type": "execute_result"
    }
   ],
   "source": [
    "twit_arc.query(\"name in ['a', 'an', 'the', 'not', 'actually']\").name.value_counts()\n",
    "\n",
    "# there are many names which are clearly not real names. (e.g. a, the, an, not ....) \n",
    "# we will change those names into \"None\" in the later stage"
   ]
  },
  {
   "cell_type": "code",
   "execution_count": 18,
   "id": "6332691d",
   "metadata": {},
   "outputs": [
    {
     "data": {
      "text/html": [
       "<div>\n",
       "<style scoped>\n",
       "    .dataframe tbody tr th:only-of-type {\n",
       "        vertical-align: middle;\n",
       "    }\n",
       "\n",
       "    .dataframe tbody tr th {\n",
       "        vertical-align: top;\n",
       "    }\n",
       "\n",
       "    .dataframe thead th {\n",
       "        text-align: right;\n",
       "    }\n",
       "</style>\n",
       "<table border=\"1\" class=\"dataframe\">\n",
       "  <thead>\n",
       "    <tr style=\"text-align: right;\">\n",
       "      <th></th>\n",
       "      <th>text</th>\n",
       "      <th>rating_numerator</th>\n",
       "      <th>rating_denominator</th>\n",
       "    </tr>\n",
       "  </thead>\n",
       "  <tbody>\n",
       "    <tr>\n",
       "      <th>313</th>\n",
       "      <td>@jonnysun @Lin_Manuel ok jomny I know you're excited but 960/00 isn't a valid rating, 13/10 is tho</td>\n",
       "      <td>960</td>\n",
       "      <td>0</td>\n",
       "    </tr>\n",
       "    <tr>\n",
       "      <th>342</th>\n",
       "      <td>@docmisterio account started on 11/15/15</td>\n",
       "      <td>11</td>\n",
       "      <td>15</td>\n",
       "    </tr>\n",
       "    <tr>\n",
       "      <th>433</th>\n",
       "      <td>The floofs have been released I repeat the floofs have been released. 84/70 https://t.co/NIYC820tmd</td>\n",
       "      <td>84</td>\n",
       "      <td>70</td>\n",
       "    </tr>\n",
       "    <tr>\n",
       "      <th>516</th>\n",
       "      <td>Meet Sam. She smiles 24/7 &amp;amp; secretly aspires to be a reindeer. \\nKeep Sam smiling by clicking and sharing this link:\\nhttps://t.co/98tB8y7y7t https://t.co/LouL5vdvxx</td>\n",
       "      <td>24</td>\n",
       "      <td>7</td>\n",
       "    </tr>\n",
       "    <tr>\n",
       "      <th>784</th>\n",
       "      <td>RT @dog_rates: After so many requests, this is Bretagne. She was the last surviving 9/11 search dog, and our second ever 14/10. RIP https:/…</td>\n",
       "      <td>9</td>\n",
       "      <td>11</td>\n",
       "    </tr>\n",
       "  </tbody>\n",
       "</table>\n",
       "</div>"
      ],
      "text/plain": [
       "                                                                                                                                                                          text  \\\n",
       "313                                                                         @jonnysun @Lin_Manuel ok jomny I know you're excited but 960/00 isn't a valid rating, 13/10 is tho   \n",
       "342                                                                                                                                   @docmisterio account started on 11/15/15   \n",
       "433                                                                        The floofs have been released I repeat the floofs have been released. 84/70 https://t.co/NIYC820tmd   \n",
       "516  Meet Sam. She smiles 24/7 &amp; secretly aspires to be a reindeer. \\nKeep Sam smiling by clicking and sharing this link:\\nhttps://t.co/98tB8y7y7t https://t.co/LouL5vdvxx   \n",
       "784                               RT @dog_rates: After so many requests, this is Bretagne. She was the last surviving 9/11 search dog, and our second ever 14/10. RIP https:/…   \n",
       "\n",
       "     rating_numerator  rating_denominator  \n",
       "313               960                   0  \n",
       "342                11                  15  \n",
       "433                84                  70  \n",
       "516                24                   7  \n",
       "784                 9                  11  "
      ]
     },
     "execution_count": 18,
     "metadata": {},
     "output_type": "execute_result"
    }
   ],
   "source": [
    "# checking for the wrong ratings\n",
    "pd.set_option('display.max_colwidth', None)\n",
    "\n",
    "twit_arc_check = twit_arc.query('rating_denominator != 10')\n",
    "twit_arc_check = twit_arc_check[['text','rating_numerator', 'rating_denominator']]\n",
    "twit_arc_check.head()\n",
    "\n",
    "# Some rows have wrong rating denominator & rating numerator.\n",
    "# They must be amended manually, based on what's written on \"text\" column."
   ]
  },
  {
   "cell_type": "code",
   "execution_count": 19,
   "id": "2e1ee004",
   "metadata": {},
   "outputs": [
    {
     "name": "stdout",
     "output_type": "stream",
     "text": [
      "<class 'pandas.core.frame.DataFrame'>\n",
      "RangeIndex: 2075 entries, 0 to 2074\n",
      "Data columns (total 12 columns):\n",
      " #   Column    Non-Null Count  Dtype  \n",
      "---  ------    --------------  -----  \n",
      " 0   tweet_id  2075 non-null   int64  \n",
      " 1   jpg_url   2075 non-null   object \n",
      " 2   img_num   2075 non-null   int64  \n",
      " 3   p1        2075 non-null   object \n",
      " 4   p1_conf   2075 non-null   float64\n",
      " 5   p1_dog    2075 non-null   bool   \n",
      " 6   p2        2075 non-null   object \n",
      " 7   p2_conf   2075 non-null   float64\n",
      " 8   p2_dog    2075 non-null   bool   \n",
      " 9   p3        2075 non-null   object \n",
      " 10  p3_conf   2075 non-null   float64\n",
      " 11  p3_dog    2075 non-null   bool   \n",
      "dtypes: bool(3), float64(3), int64(2), object(4)\n",
      "memory usage: 152.1+ KB\n"
     ]
    }
   ],
   "source": [
    "# checking for datatypes\n",
    "\n",
    "predict.info()"
   ]
  },
  {
   "cell_type": "code",
   "execution_count": 20,
   "id": "130d4c0b",
   "metadata": {
    "scrolled": true
   },
   "outputs": [
    {
     "name": "stdout",
     "output_type": "stream",
     "text": [
      "<class 'pandas.core.frame.DataFrame'>\n",
      "RangeIndex: 2354 entries, 0 to 2353\n",
      "Data columns (total 31 columns):\n",
      " #   Column                         Non-Null Count  Dtype              \n",
      "---  ------                         --------------  -----              \n",
      " 0   created_at                     2354 non-null   datetime64[ns, UTC]\n",
      " 1   id                             2354 non-null   int64              \n",
      " 2   id_str                         2354 non-null   int64              \n",
      " 3   full_text                      2354 non-null   object             \n",
      " 4   truncated                      2354 non-null   bool               \n",
      " 5   display_text_range             2354 non-null   object             \n",
      " 6   entities                       2354 non-null   object             \n",
      " 7   extended_entities              2073 non-null   object             \n",
      " 8   source                         2354 non-null   object             \n",
      " 9   in_reply_to_status_id          78 non-null     float64            \n",
      " 10  in_reply_to_status_id_str      78 non-null     float64            \n",
      " 11  in_reply_to_user_id            78 non-null     float64            \n",
      " 12  in_reply_to_user_id_str        78 non-null     float64            \n",
      " 13  in_reply_to_screen_name        78 non-null     object             \n",
      " 14  user                           2354 non-null   object             \n",
      " 15  geo                            0 non-null      float64            \n",
      " 16  coordinates                    0 non-null      float64            \n",
      " 17  place                          1 non-null      object             \n",
      " 18  contributors                   0 non-null      float64            \n",
      " 19  is_quote_status                2354 non-null   bool               \n",
      " 20  retweet_count                  2354 non-null   int64              \n",
      " 21  favorite_count                 2354 non-null   int64              \n",
      " 22  favorited                      2354 non-null   bool               \n",
      " 23  retweeted                      2354 non-null   bool               \n",
      " 24  possibly_sensitive             2211 non-null   float64            \n",
      " 25  possibly_sensitive_appealable  2211 non-null   float64            \n",
      " 26  lang                           2354 non-null   object             \n",
      " 27  retweeted_status               179 non-null    object             \n",
      " 28  quoted_status_id               29 non-null     float64            \n",
      " 29  quoted_status_id_str           29 non-null     float64            \n",
      " 30  quoted_status                  28 non-null     object             \n",
      "dtypes: bool(4), datetime64[ns, UTC](1), float64(11), int64(4), object(11)\n",
      "memory usage: 505.9+ KB\n"
     ]
    }
   ],
   "source": [
    "# checking for datatypes\n",
    "\n",
    "twit_json.info()"
   ]
  },
  {
   "cell_type": "markdown",
   "id": "9016a1b7",
   "metadata": {},
   "source": [
    "## Summary\n",
    "### Quality issues:\n",
    "#### twit_arc\n",
    "- Remove duplicated data in \"expanded_urls\" column & the rows with null value in the same column\n",
    "- Remove rows that have values in \"retweeted_status_id\", \"retweeted_status_user_id\" and \"retweeted_status_timestamp\" columns\n",
    "- Change the datatype of \"timestamp\" column to datatime\n",
    "- Get the right ratings in \"rating nominator\" & \"rating denominator\", and merge into one column\n",
    "- Change the datatype of \"tweed_id\" columnb to str\n",
    "- Remove HTML tag from \"source\" column\n",
    "- Remove words that are not names in 'name' column\n",
    "\n",
    "#### twit_json\n",
    "- Remove HTML tag from \"source\" column\n",
    "- Change the datatype of \"tweed_id\" columnb to str\n",
    "\n",
    "#### predict\n",
    "- \"P1\", \"P2\", \"P3\" columns should start with upper case letter\n",
    "- Change the datatype of \"tweed_id\" columnb to str\n",
    "\n",
    "\n",
    "### Tidiness Issues:\n",
    "#### twit_arc\n",
    "Dog stage (doggo, floofer, pupper, puppo) must be merged into one column.\n",
    "\n",
    "#### twit_json\n",
    "Add the retweet_count and favorite_count columns to the twit_arc, since this data is meant to augment the archived tweet data.\n",
    "\n",
    "#### predict\n",
    "Add breed prediction column to twit_arc as it could give more information on which breed of dog has been posted most.\n",
    "\n",
    "## Cleaning\n",
    "\n",
    "### Quality : twit_arc\n",
    "####  1. Remove duplicated data & the rows with null value in \"expanded_urls\" column\n",
    "\n",
    "#### Define\n",
    "- Remove null values in expanded_urls with .dropna functions\n",
    "- Split the value with .split function, and choose the first value\n",
    "\n",
    "#### Code"
   ]
  },
  {
   "cell_type": "code",
   "execution_count": 21,
   "id": "b5eea12a",
   "metadata": {},
   "outputs": [],
   "source": [
    "twit_arc.dropna(subset = ['expanded_urls'], inplace = True)\n",
    "\n",
    "def delete_duplicated_urls(url):\n",
    "    true_url = url.split(',')[0]\n",
    "    return true_url\n",
    "\n",
    "twit_arc['correct_expanded_urls'] = twit_arc.apply(lambda x: delete_duplicated_urls(x['expanded_urls']), axis=1)\n",
    "twit_arc.drop('expanded_urls', axis=1, inplace=True)"
   ]
  },
  {
   "cell_type": "markdown",
   "id": "37e79d30",
   "metadata": {},
   "source": [
    "#### Test"
   ]
  },
  {
   "cell_type": "code",
   "execution_count": 22,
   "id": "8f592a76",
   "metadata": {},
   "outputs": [],
   "source": [
    "for index,row in twit_arc.iterrows():\n",
    "    if len(row['correct_expanded_urls'].split(',')) > 1:\n",
    "        print(row['correct_expanded_urls'])"
   ]
  },
  {
   "cell_type": "markdown",
   "id": "c2c3f612",
   "metadata": {},
   "source": [
    "#### 2. Remove non-empty rows in retweeted_status_id, retweeted_status_user_id, retweeted_status_timestamp\n",
    "#### Define\n",
    "We will remove non-null rows in the columns above, which are not required for our analysis.\n",
    "Since the three columns shares the same non-empty rows, we can just based on one of the columns.\n",
    "\n",
    "#### Code"
   ]
  },
  {
   "cell_type": "code",
   "execution_count": 23,
   "id": "e69beff5",
   "metadata": {},
   "outputs": [],
   "source": [
    "retweeted_status_id_index = twit_arc[twit_arc.retweeted_status_id.notnull()].index\n",
    "\n",
    "twit_arc.drop(retweeted_status_id_index, axis = 0, inplace= True)"
   ]
  },
  {
   "cell_type": "markdown",
   "id": "94b185a2",
   "metadata": {},
   "source": [
    "#### Test"
   ]
  },
  {
   "cell_type": "code",
   "execution_count": 24,
   "id": "4c85b25e",
   "metadata": {},
   "outputs": [
    {
     "data": {
      "text/html": [
       "<div>\n",
       "<style scoped>\n",
       "    .dataframe tbody tr th:only-of-type {\n",
       "        vertical-align: middle;\n",
       "    }\n",
       "\n",
       "    .dataframe tbody tr th {\n",
       "        vertical-align: top;\n",
       "    }\n",
       "\n",
       "    .dataframe thead th {\n",
       "        text-align: right;\n",
       "    }\n",
       "</style>\n",
       "<table border=\"1\" class=\"dataframe\">\n",
       "  <thead>\n",
       "    <tr style=\"text-align: right;\">\n",
       "      <th></th>\n",
       "      <th>tweet_id</th>\n",
       "      <th>in_reply_to_status_id</th>\n",
       "      <th>in_reply_to_user_id</th>\n",
       "      <th>timestamp</th>\n",
       "      <th>source</th>\n",
       "      <th>text</th>\n",
       "      <th>retweeted_status_id</th>\n",
       "      <th>retweeted_status_user_id</th>\n",
       "      <th>retweeted_status_timestamp</th>\n",
       "      <th>rating_numerator</th>\n",
       "      <th>rating_denominator</th>\n",
       "      <th>name</th>\n",
       "      <th>doggo</th>\n",
       "      <th>floofer</th>\n",
       "      <th>pupper</th>\n",
       "      <th>puppo</th>\n",
       "      <th>correct_expanded_urls</th>\n",
       "    </tr>\n",
       "  </thead>\n",
       "  <tbody>\n",
       "  </tbody>\n",
       "</table>\n",
       "</div>"
      ],
      "text/plain": [
       "Empty DataFrame\n",
       "Columns: [tweet_id, in_reply_to_status_id, in_reply_to_user_id, timestamp, source, text, retweeted_status_id, retweeted_status_user_id, retweeted_status_timestamp, rating_numerator, rating_denominator, name, doggo, floofer, pupper, puppo, correct_expanded_urls]\n",
       "Index: []"
      ]
     },
     "execution_count": 24,
     "metadata": {},
     "output_type": "execute_result"
    }
   ],
   "source": [
    "twit_arc[twit_arc.retweeted_status_user_id.notnull()]"
   ]
  },
  {
   "cell_type": "markdown",
   "id": "024e606c",
   "metadata": {},
   "source": [
    "#### 3. Change datatype of timestamp column\n",
    "#### Define\n",
    "Change datatype from timestamp colum to datatime\n",
    "\n",
    "#### Code\n"
   ]
  },
  {
   "cell_type": "code",
   "execution_count": 25,
   "id": "efd06447",
   "metadata": {},
   "outputs": [],
   "source": [
    "twit_arc.timestamp = twit_arc.timestamp.astype('datetime64')"
   ]
  },
  {
   "cell_type": "markdown",
   "id": "801f1a35",
   "metadata": {},
   "source": [
    "#### Test"
   ]
  },
  {
   "cell_type": "code",
   "execution_count": 26,
   "id": "a93babf5",
   "metadata": {},
   "outputs": [
    {
     "name": "stdout",
     "output_type": "stream",
     "text": [
      "<class 'pandas.core.frame.DataFrame'>\n",
      "Int64Index: 2117 entries, 0 to 2355\n",
      "Data columns (total 17 columns):\n",
      " #   Column                      Non-Null Count  Dtype         \n",
      "---  ------                      --------------  -----         \n",
      " 0   tweet_id                    2117 non-null   int64         \n",
      " 1   in_reply_to_status_id       23 non-null     float64       \n",
      " 2   in_reply_to_user_id         23 non-null     float64       \n",
      " 3   timestamp                   2117 non-null   datetime64[ns]\n",
      " 4   source                      2117 non-null   object        \n",
      " 5   text                        2117 non-null   object        \n",
      " 6   retweeted_status_id         0 non-null      float64       \n",
      " 7   retweeted_status_user_id    0 non-null      float64       \n",
      " 8   retweeted_status_timestamp  0 non-null      object        \n",
      " 9   rating_numerator            2117 non-null   int64         \n",
      " 10  rating_denominator          2117 non-null   int64         \n",
      " 11  name                        2117 non-null   object        \n",
      " 12  doggo                       2117 non-null   object        \n",
      " 13  floofer                     2117 non-null   object        \n",
      " 14  pupper                      2117 non-null   object        \n",
      " 15  puppo                       2117 non-null   object        \n",
      " 16  correct_expanded_urls       2117 non-null   object        \n",
      "dtypes: datetime64[ns](1), float64(4), int64(3), object(9)\n",
      "memory usage: 297.7+ KB\n"
     ]
    }
   ],
   "source": [
    "twit_arc.info()"
   ]
  },
  {
   "cell_type": "markdown",
   "id": "e008c011",
   "metadata": {},
   "source": [
    "#### 4. Amend ratings and combine into one\n",
    "#### Define\n",
    "Find the right rating_denominator and rating_nominator by selecting the rows with other denominators than 10.\n",
    "Change the values after comparing with what's written on the text column.\n",
    "Combine them into the complete ratings, by creating a new column.\n",
    "#### Code"
   ]
  },
  {
   "cell_type": "code",
   "execution_count": 27,
   "id": "49c941fb",
   "metadata": {},
   "outputs": [
    {
     "name": "stdout",
     "output_type": "stream",
     "text": [
      "9 / 11\n",
      "4 / 20\n",
      "7 / 11\n",
      "1 / 2\n",
      "24 / 7\n"
     ]
    }
   ],
   "source": [
    "# We found out in the previous assessment that index 1068, 1165, 1662, 2335, 516 must be amended.\n",
    "\n",
    "numbers = [1068, 1165, 1662, 2335, 516]\n",
    "\n",
    "for n in numbers:\n",
    "    print(twit_arc.query('rating_denominator != 10').loc[n, 'rating_numerator'],'/',twit_arc.query('rating_denominator != 10').loc[n, 'rating_denominator'])"
   ]
  },
  {
   "cell_type": "code",
   "execution_count": 28,
   "id": "4fa9c5cd",
   "metadata": {},
   "outputs": [],
   "source": [
    "# amending 5 rows\n",
    "\n",
    "twit_arc['rating_numerator'].replace([9,4, 7, 1,24], [14,13,10, 9, 10], inplace = True)\n",
    "twit_arc['rating_denominator'].replace([11,20, 11, 2,7], [10,10,10, 10, 10], inplace = True)\n",
    "\n",
    "# The last column (index 516) doesn't have any ratings in the note, but I will change it to 10/10 for convenience in calculation"
   ]
  },
  {
   "cell_type": "code",
   "execution_count": 29,
   "id": "a00b933e",
   "metadata": {},
   "outputs": [],
   "source": [
    "# combining into a single column\n",
    "twit_arc['ratings'] = twit_arc['rating_numerator'].astype('str') + \"/\" +twit_arc['rating_denominator'].astype('str')"
   ]
  },
  {
   "cell_type": "markdown",
   "id": "6d841def",
   "metadata": {},
   "source": [
    "#### Test"
   ]
  },
  {
   "cell_type": "code",
   "execution_count": 30,
   "id": "62c72529",
   "metadata": {},
   "outputs": [
    {
     "name": "stdout",
     "output_type": "stream",
     "text": [
      "14/10\n",
      "13/10\n",
      "10/10\n",
      "9/10\n",
      "10/10\n"
     ]
    }
   ],
   "source": [
    "numbers = [1068, 1165, 1662, 2335, 516]\n",
    "\n",
    "for n in numbers:\n",
    "    print(twit_arc.loc[n, 'ratings'])\n",
    "    \n",
    "# I will not drop the original ratings columns for now, since they might come in handy with calculating in future."
   ]
  },
  {
   "cell_type": "markdown",
   "id": "9eb0dc5e",
   "metadata": {},
   "source": [
    "#### 5. Change the datatype to str\n",
    "#### Define\n",
    "Change the datatype of tweet_id, in_reply_to_status_id, in_reply_to_user_id to str\n",
    "\n",
    "#### Code"
   ]
  },
  {
   "cell_type": "code",
   "execution_count": 31,
   "id": "a5d3e402",
   "metadata": {},
   "outputs": [],
   "source": [
    "ids_list = ['tweet_id', \"in_reply_to_status_id\", \"in_reply_to_user_id\"]\n",
    "\n",
    "def string_convert(dataset, column):\n",
    "    dataset[column] = dataset[column].astype('str')\n",
    "    result = dataset[column]\n",
    "    return result\n",
    "\n",
    "for ids in ids_list:\n",
    "    string_convert(twit_arc, ids)"
   ]
  },
  {
   "cell_type": "markdown",
   "id": "0f1dfcff",
   "metadata": {},
   "source": [
    "#### Test"
   ]
  },
  {
   "cell_type": "code",
   "execution_count": 32,
   "id": "c226fce7",
   "metadata": {},
   "outputs": [
    {
     "name": "stdout",
     "output_type": "stream",
     "text": [
      "<class 'pandas.core.frame.DataFrame'>\n",
      "Int64Index: 2117 entries, 0 to 2355\n",
      "Data columns (total 18 columns):\n",
      " #   Column                      Non-Null Count  Dtype         \n",
      "---  ------                      --------------  -----         \n",
      " 0   tweet_id                    2117 non-null   object        \n",
      " 1   in_reply_to_status_id       2117 non-null   object        \n",
      " 2   in_reply_to_user_id         2117 non-null   object        \n",
      " 3   timestamp                   2117 non-null   datetime64[ns]\n",
      " 4   source                      2117 non-null   object        \n",
      " 5   text                        2117 non-null   object        \n",
      " 6   retweeted_status_id         0 non-null      float64       \n",
      " 7   retweeted_status_user_id    0 non-null      float64       \n",
      " 8   retweeted_status_timestamp  0 non-null      object        \n",
      " 9   rating_numerator            2117 non-null   int64         \n",
      " 10  rating_denominator          2117 non-null   int64         \n",
      " 11  name                        2117 non-null   object        \n",
      " 12  doggo                       2117 non-null   object        \n",
      " 13  floofer                     2117 non-null   object        \n",
      " 14  pupper                      2117 non-null   object        \n",
      " 15  puppo                       2117 non-null   object        \n",
      " 16  correct_expanded_urls       2117 non-null   object        \n",
      " 17  ratings                     2117 non-null   object        \n",
      "dtypes: datetime64[ns](1), float64(2), int64(2), object(13)\n",
      "memory usage: 378.8+ KB\n"
     ]
    }
   ],
   "source": [
    "twit_arc.info()"
   ]
  },
  {
   "cell_type": "markdown",
   "id": "dd72cb6f",
   "metadata": {},
   "source": [
    "#### 6. Remove HTML tag from 'source'\n",
    "#### Define\n",
    "Only extract the source that is not HTML tag, using regular expression\n",
    "\n",
    "#### Code"
   ]
  },
  {
   "cell_type": "code",
   "execution_count": 33,
   "id": "bec43040",
   "metadata": {},
   "outputs": [],
   "source": [
    "source = (twit_arc.source.str.extract('>(.*?)<').rename(columns={0: 'platform_name'}))\n",
    "twit_arc['source'] = source"
   ]
  },
  {
   "cell_type": "markdown",
   "id": "393bec4b",
   "metadata": {},
   "source": [
    "#### Test"
   ]
  },
  {
   "cell_type": "code",
   "execution_count": 34,
   "id": "f43bb57a",
   "metadata": {},
   "outputs": [
    {
     "data": {
      "text/plain": [
       "Twitter for iPhone     1985\n",
       "Vine - Make a Scene      91\n",
       "Twitter Web Client       30\n",
       "TweetDeck                11\n",
       "Name: source, dtype: int64"
      ]
     },
     "execution_count": 34,
     "metadata": {},
     "output_type": "execute_result"
    }
   ],
   "source": [
    "twit_arc.source.value_counts()"
   ]
  },
  {
   "cell_type": "markdown",
   "id": "c489ecd2",
   "metadata": {},
   "source": [
    "#### 7. Remove words that are not names in 'name'\n",
    "#### Define\n",
    "There are names which are obviously not a name, which begins with lower case. Select the names which start with lower case, get their indexes and drop the rows\n",
    "\n",
    "#### Code"
   ]
  },
  {
   "cell_type": "code",
   "execution_count": 35,
   "id": "aa2cfcae",
   "metadata": {},
   "outputs": [],
   "source": [
    "mask = twit_arc.name.fillna(\"lower\").str.islower()\n",
    "column_name = 'name'\n",
    "twit_arc.loc[mask, column_name] = np.nan\n",
    "twit_arc.replace(np.nan, \"None\", inplace = True)"
   ]
  },
  {
   "cell_type": "markdown",
   "id": "1261cd5f",
   "metadata": {},
   "source": [
    "#### Test"
   ]
  },
  {
   "cell_type": "code",
   "execution_count": 36,
   "id": "28e13778",
   "metadata": {},
   "outputs": [
    {
     "data": {
      "text/html": [
       "<div>\n",
       "<style scoped>\n",
       "    .dataframe tbody tr th:only-of-type {\n",
       "        vertical-align: middle;\n",
       "    }\n",
       "\n",
       "    .dataframe tbody tr th {\n",
       "        vertical-align: top;\n",
       "    }\n",
       "\n",
       "    .dataframe thead th {\n",
       "        text-align: right;\n",
       "    }\n",
       "</style>\n",
       "<table border=\"1\" class=\"dataframe\">\n",
       "  <thead>\n",
       "    <tr style=\"text-align: right;\">\n",
       "      <th></th>\n",
       "      <th>tweet_id</th>\n",
       "      <th>in_reply_to_status_id</th>\n",
       "      <th>in_reply_to_user_id</th>\n",
       "      <th>timestamp</th>\n",
       "      <th>source</th>\n",
       "      <th>text</th>\n",
       "      <th>retweeted_status_id</th>\n",
       "      <th>retweeted_status_user_id</th>\n",
       "      <th>retweeted_status_timestamp</th>\n",
       "      <th>rating_numerator</th>\n",
       "      <th>rating_denominator</th>\n",
       "      <th>name</th>\n",
       "      <th>doggo</th>\n",
       "      <th>floofer</th>\n",
       "      <th>pupper</th>\n",
       "      <th>puppo</th>\n",
       "      <th>correct_expanded_urls</th>\n",
       "      <th>ratings</th>\n",
       "    </tr>\n",
       "  </thead>\n",
       "  <tbody>\n",
       "  </tbody>\n",
       "</table>\n",
       "</div>"
      ],
      "text/plain": [
       "Empty DataFrame\n",
       "Columns: [tweet_id, in_reply_to_status_id, in_reply_to_user_id, timestamp, source, text, retweeted_status_id, retweeted_status_user_id, retweeted_status_timestamp, rating_numerator, rating_denominator, name, doggo, floofer, pupper, puppo, correct_expanded_urls, ratings]\n",
       "Index: []"
      ]
     },
     "execution_count": 36,
     "metadata": {},
     "output_type": "execute_result"
    }
   ],
   "source": [
    "twit_arc.query('name == \"a\"')"
   ]
  },
  {
   "cell_type": "markdown",
   "id": "51dcb2b5",
   "metadata": {},
   "source": [
    "### Quality : twit_json\n",
    "\n",
    "#### 1. Remove HTML tag from 'source'\n",
    "\n",
    "#### Define\n",
    "Only extract the real source that is not HTML tag, using regular expression\n",
    "\n",
    "#### Code"
   ]
  },
  {
   "cell_type": "code",
   "execution_count": 37,
   "id": "cc2a0350",
   "metadata": {},
   "outputs": [],
   "source": [
    "source = (twit_json.source.str.extract('>(.*?)<').rename(columns={0: 'platform_name'}))\n",
    "twit_json['source'] = source"
   ]
  },
  {
   "cell_type": "markdown",
   "id": "07dc006a",
   "metadata": {},
   "source": [
    "#### Test"
   ]
  },
  {
   "cell_type": "code",
   "execution_count": 38,
   "id": "0efb7e12",
   "metadata": {},
   "outputs": [
    {
     "data": {
      "text/plain": [
       "Twitter for iPhone     2219\n",
       "Vine - Make a Scene      91\n",
       "Twitter Web Client       33\n",
       "TweetDeck                11\n",
       "Name: source, dtype: int64"
      ]
     },
     "execution_count": 38,
     "metadata": {},
     "output_type": "execute_result"
    }
   ],
   "source": [
    "twit_json.source.value_counts()"
   ]
  },
  {
   "cell_type": "markdown",
   "id": "8c835b59",
   "metadata": {},
   "source": [
    "#### 2. Change the datatype to str & remove unncessary columns\n",
    "#### Define\n",
    "Change the datatype of id, in_reply_to_status_id, in_reply_to_user_id, quoted_status_id to str\n",
    "Remove \"in_reply_to_status_id_str\", \"in_reply_to_user_id_str\", \"quoted_status_id_str\" columns\n",
    "#### Code"
   ]
  },
  {
   "cell_type": "code",
   "execution_count": 39,
   "id": "10598280",
   "metadata": {},
   "outputs": [],
   "source": [
    "ids_list = ['id', \"in_reply_to_status_id\", \"in_reply_to_user_id\", \"quoted_status_id\"]\n",
    "\n",
    "for ids in ids_list:\n",
    "    string_convert(twit_json, ids)\n",
    "    \n",
    "twit_json.drop([\"in_reply_to_status_id_str\", \"in_reply_to_user_id_str\", \"quoted_status_id_str\"], axis = 1, inplace = True)"
   ]
  },
  {
   "cell_type": "markdown",
   "id": "795ce92f",
   "metadata": {},
   "source": [
    "#### info"
   ]
  },
  {
   "cell_type": "code",
   "execution_count": 40,
   "id": "6cc0d555",
   "metadata": {},
   "outputs": [
    {
     "name": "stdout",
     "output_type": "stream",
     "text": [
      "<class 'pandas.core.frame.DataFrame'>\n",
      "RangeIndex: 2354 entries, 0 to 2353\n",
      "Data columns (total 28 columns):\n",
      " #   Column                         Non-Null Count  Dtype              \n",
      "---  ------                         --------------  -----              \n",
      " 0   created_at                     2354 non-null   datetime64[ns, UTC]\n",
      " 1   id                             2354 non-null   object             \n",
      " 2   id_str                         2354 non-null   int64              \n",
      " 3   full_text                      2354 non-null   object             \n",
      " 4   truncated                      2354 non-null   bool               \n",
      " 5   display_text_range             2354 non-null   object             \n",
      " 6   entities                       2354 non-null   object             \n",
      " 7   extended_entities              2073 non-null   object             \n",
      " 8   source                         2354 non-null   object             \n",
      " 9   in_reply_to_status_id          2354 non-null   object             \n",
      " 10  in_reply_to_user_id            2354 non-null   object             \n",
      " 11  in_reply_to_screen_name        78 non-null     object             \n",
      " 12  user                           2354 non-null   object             \n",
      " 13  geo                            0 non-null      float64            \n",
      " 14  coordinates                    0 non-null      float64            \n",
      " 15  place                          1 non-null      object             \n",
      " 16  contributors                   0 non-null      float64            \n",
      " 17  is_quote_status                2354 non-null   bool               \n",
      " 18  retweet_count                  2354 non-null   int64              \n",
      " 19  favorite_count                 2354 non-null   int64              \n",
      " 20  favorited                      2354 non-null   bool               \n",
      " 21  retweeted                      2354 non-null   bool               \n",
      " 22  possibly_sensitive             2211 non-null   float64            \n",
      " 23  possibly_sensitive_appealable  2211 non-null   float64            \n",
      " 24  lang                           2354 non-null   object             \n",
      " 25  retweeted_status               179 non-null    object             \n",
      " 26  quoted_status_id               2354 non-null   object             \n",
      " 27  quoted_status                  28 non-null     object             \n",
      "dtypes: bool(4), datetime64[ns, UTC](1), float64(5), int64(3), object(15)\n",
      "memory usage: 450.7+ KB\n"
     ]
    }
   ],
   "source": [
    "twit_json.info()"
   ]
  },
  {
   "cell_type": "markdown",
   "id": "ad62c5e2",
   "metadata": {},
   "source": [
    "### Quality : predict\n",
    "#### P1, P2, P3 columns should start with upper case letter\n",
    "#### Define\n",
    "Dog names in P1, P2, P3 must start with upper case letter for future analysis. I will change the first letter using .capitalize() function.\n",
    "\n",
    "#### Code"
   ]
  },
  {
   "cell_type": "code",
   "execution_count": 41,
   "id": "cd755779",
   "metadata": {},
   "outputs": [],
   "source": [
    "columns_list = ['p1', 'p2', 'p3']\n",
    "\n",
    "for columns in columns_list:\n",
    "    predict[columns] = predict[columns].str.capitalize()"
   ]
  },
  {
   "cell_type": "markdown",
   "id": "f64f35c1",
   "metadata": {},
   "source": [
    "#### Test"
   ]
  },
  {
   "cell_type": "code",
   "execution_count": 42,
   "id": "021b8db8",
   "metadata": {},
   "outputs": [
    {
     "data": {
      "text/html": [
       "<div>\n",
       "<style scoped>\n",
       "    .dataframe tbody tr th:only-of-type {\n",
       "        vertical-align: middle;\n",
       "    }\n",
       "\n",
       "    .dataframe tbody tr th {\n",
       "        vertical-align: top;\n",
       "    }\n",
       "\n",
       "    .dataframe thead th {\n",
       "        text-align: right;\n",
       "    }\n",
       "</style>\n",
       "<table border=\"1\" class=\"dataframe\">\n",
       "  <thead>\n",
       "    <tr style=\"text-align: right;\">\n",
       "      <th></th>\n",
       "      <th>tweet_id</th>\n",
       "      <th>jpg_url</th>\n",
       "      <th>img_num</th>\n",
       "      <th>p1</th>\n",
       "      <th>p1_conf</th>\n",
       "      <th>p1_dog</th>\n",
       "      <th>p2</th>\n",
       "      <th>p2_conf</th>\n",
       "      <th>p2_dog</th>\n",
       "      <th>p3</th>\n",
       "      <th>p3_conf</th>\n",
       "      <th>p3_dog</th>\n",
       "    </tr>\n",
       "  </thead>\n",
       "  <tbody>\n",
       "    <tr>\n",
       "      <th>1385</th>\n",
       "      <td>766008592277377025</td>\n",
       "      <td>https://pbs.twimg.com/media/CqFouXOXYAAYpzG.jpg</td>\n",
       "      <td>1</td>\n",
       "      <td>Welsh_springer_spaniel</td>\n",
       "      <td>0.728153</td>\n",
       "      <td>True</td>\n",
       "      <td>Basset</td>\n",
       "      <td>0.103842</td>\n",
       "      <td>True</td>\n",
       "      <td>Brittany_spaniel</td>\n",
       "      <td>0.062414</td>\n",
       "      <td>True</td>\n",
       "    </tr>\n",
       "    <tr>\n",
       "      <th>932</th>\n",
       "      <td>703268521220972544</td>\n",
       "      <td>https://pbs.twimg.com/media/CcKC-5LW4AAK-nb.jpg</td>\n",
       "      <td>1</td>\n",
       "      <td>Wool</td>\n",
       "      <td>0.525434</td>\n",
       "      <td>False</td>\n",
       "      <td>Fur_coat</td>\n",
       "      <td>0.236391</td>\n",
       "      <td>False</td>\n",
       "      <td>Kuvasz</td>\n",
       "      <td>0.038243</td>\n",
       "      <td>True</td>\n",
       "    </tr>\n",
       "    <tr>\n",
       "      <th>1285</th>\n",
       "      <td>750719632563142656</td>\n",
       "      <td>https://pbs.twimg.com/media/CmsXg9AWgAAs6Ui.jpg</td>\n",
       "      <td>1</td>\n",
       "      <td>Pembroke</td>\n",
       "      <td>0.972587</td>\n",
       "      <td>True</td>\n",
       "      <td>Cardigan</td>\n",
       "      <td>0.014772</td>\n",
       "      <td>True</td>\n",
       "      <td>Basenji</td>\n",
       "      <td>0.005798</td>\n",
       "      <td>True</td>\n",
       "    </tr>\n",
       "  </tbody>\n",
       "</table>\n",
       "</div>"
      ],
      "text/plain": [
       "                tweet_id                                          jpg_url  \\\n",
       "1385  766008592277377025  https://pbs.twimg.com/media/CqFouXOXYAAYpzG.jpg   \n",
       "932   703268521220972544  https://pbs.twimg.com/media/CcKC-5LW4AAK-nb.jpg   \n",
       "1285  750719632563142656  https://pbs.twimg.com/media/CmsXg9AWgAAs6Ui.jpg   \n",
       "\n",
       "      img_num                      p1   p1_conf  p1_dog        p2   p2_conf  \\\n",
       "1385        1  Welsh_springer_spaniel  0.728153    True    Basset  0.103842   \n",
       "932         1                    Wool  0.525434   False  Fur_coat  0.236391   \n",
       "1285        1                Pembroke  0.972587    True  Cardigan  0.014772   \n",
       "\n",
       "      p2_dog                p3   p3_conf  p3_dog  \n",
       "1385    True  Brittany_spaniel  0.062414    True  \n",
       "932    False            Kuvasz  0.038243    True  \n",
       "1285    True           Basenji  0.005798    True  "
      ]
     },
     "execution_count": 42,
     "metadata": {},
     "output_type": "execute_result"
    }
   ],
   "source": [
    "predict.sample(3)"
   ]
  },
  {
   "cell_type": "code",
   "execution_count": 43,
   "id": "15c813a0",
   "metadata": {},
   "outputs": [
    {
     "name": "stdout",
     "output_type": "stream",
     "text": [
      "<class 'pandas.core.frame.DataFrame'>\n",
      "RangeIndex: 2075 entries, 0 to 2074\n",
      "Data columns (total 12 columns):\n",
      " #   Column    Non-Null Count  Dtype  \n",
      "---  ------    --------------  -----  \n",
      " 0   tweet_id  2075 non-null   object \n",
      " 1   jpg_url   2075 non-null   object \n",
      " 2   img_num   2075 non-null   int64  \n",
      " 3   p1        2075 non-null   object \n",
      " 4   p1_conf   2075 non-null   float64\n",
      " 5   p1_dog    2075 non-null   bool   \n",
      " 6   p2        2075 non-null   object \n",
      " 7   p2_conf   2075 non-null   float64\n",
      " 8   p2_dog    2075 non-null   bool   \n",
      " 9   p3        2075 non-null   object \n",
      " 10  p3_conf   2075 non-null   float64\n",
      " 11  p3_dog    2075 non-null   bool   \n",
      "dtypes: bool(3), float64(3), int64(1), object(5)\n",
      "memory usage: 152.1+ KB\n"
     ]
    }
   ],
   "source": [
    "# change the datatype of tweet_id to str\n",
    "string_convert(predict, 'tweet_id')\n",
    "\n",
    "predict.info()"
   ]
  },
  {
   "cell_type": "markdown",
   "id": "5caf3308",
   "metadata": {},
   "source": [
    "### Tidiness : twit_arc\n",
    "#### Dog stage (doggo, floofer, pupper, puppo) must be merged into one column.\n",
    "#### Define\n",
    "- Replace None or N/A values to blank, so that we can smoothly combine into one column, \"dog_stage\". Some columns that contain multiple values (e.g. doggo, pupper) will be amended using df.loc.\n",
    "- Original Doggo, Floofer, Pupper, Puppo columns will be dropped in the last step.\n",
    "\n",
    "#### Code"
   ]
  },
  {
   "cell_type": "code",
   "execution_count": 44,
   "id": "5fe129d7",
   "metadata": {},
   "outputs": [],
   "source": [
    "twit_arc.doggo.replace('None', '', inplace=True)\n",
    "twit_arc.doggo.replace(np.NaN, '', inplace=True)\n",
    "twit_arc.floofer.replace('None', '', inplace=True)\n",
    "twit_arc.floofer.replace(np.NaN, '', inplace=True)\n",
    "twit_arc.pupper.replace('None', '', inplace=True)\n",
    "twit_arc.pupper.replace(np.NaN, '', inplace=True)\n",
    "twit_arc.puppo.replace('None', '', inplace=True)\n",
    "twit_arc.puppo.replace(np.NaN, '', inplace=True)"
   ]
  },
  {
   "cell_type": "code",
   "execution_count": 45,
   "id": "27add15f",
   "metadata": {},
   "outputs": [],
   "source": [
    "twit_arc['dog_stage'] = twit_arc.doggo + twit_arc.floofer + twit_arc.pupper + twit_arc.puppo\n",
    "twit_arc.loc[twit_arc.dog_stage == 'doggopupper', 'dog_stage'] = 'doggo,pupper'\n",
    "twit_arc.loc[twit_arc.dog_stage == 'doggopuppo', 'dog_stage'] = 'doggo,puppo'\n",
    "twit_arc.loc[twit_arc.dog_stage == 'doggofloofer', 'dog_stage'] = 'doggo,floofer'\n",
    "twit_arc.dog_stage.replace('', \"None\", inplace = True)\n",
    "\n",
    "twit_arc.drop(['doggo', 'floofer', 'pupper', 'puppo'], axis=1, inplace=True)"
   ]
  },
  {
   "cell_type": "markdown",
   "id": "994f45e0",
   "metadata": {},
   "source": [
    "#### Test"
   ]
  },
  {
   "cell_type": "code",
   "execution_count": 46,
   "id": "e4ba4a3a",
   "metadata": {},
   "outputs": [
    {
     "data": {
      "text/plain": [
       "None             1779\n",
       "pupper            222\n",
       "doggo              72\n",
       "puppo              23\n",
       "doggo,pupper       10\n",
       "floofer             9\n",
       "doggo,floofer       1\n",
       "doggo,puppo         1\n",
       "Name: dog_stage, dtype: int64"
      ]
     },
     "execution_count": 46,
     "metadata": {},
     "output_type": "execute_result"
    }
   ],
   "source": [
    "twit_arc.dog_stage.value_counts()"
   ]
  },
  {
   "cell_type": "markdown",
   "id": "2c55494f",
   "metadata": {},
   "source": [
    "### Tidiness : twit_json\n",
    "#### Add the retweet_count and favorite_count columns to the twit_arc dataset\n",
    "#### Define\n",
    "Change the column name \"id\" in twit_json dataset to \"tweet_id\" and merge into twit_arc dataset\n",
    "\n",
    "#### Code"
   ]
  },
  {
   "cell_type": "code",
   "execution_count": 47,
   "id": "61a4f27b",
   "metadata": {},
   "outputs": [],
   "source": [
    "twit_json.rename(columns = {'id': 'tweet_id'}, inplace = True)\n",
    "id_retweet = twit_json[['tweet_id','retweet_count', 'favorite_count']]\n",
    "twit_arc = pd.merge(twit_arc, id_retweet, on = ['tweet_id'])"
   ]
  },
  {
   "cell_type": "markdown",
   "id": "e7f0a40a",
   "metadata": {},
   "source": [
    "#### Test"
   ]
  },
  {
   "cell_type": "code",
   "execution_count": 48,
   "id": "df1dc31e",
   "metadata": {},
   "outputs": [
    {
     "name": "stdout",
     "output_type": "stream",
     "text": [
      "<class 'pandas.core.frame.DataFrame'>\n",
      "Int64Index: 2117 entries, 0 to 2116\n",
      "Data columns (total 17 columns):\n",
      " #   Column                      Non-Null Count  Dtype         \n",
      "---  ------                      --------------  -----         \n",
      " 0   tweet_id                    2117 non-null   object        \n",
      " 1   in_reply_to_status_id       2117 non-null   object        \n",
      " 2   in_reply_to_user_id         2117 non-null   object        \n",
      " 3   timestamp                   2117 non-null   datetime64[ns]\n",
      " 4   source                      2117 non-null   object        \n",
      " 5   text                        2117 non-null   object        \n",
      " 6   retweeted_status_id         2117 non-null   object        \n",
      " 7   retweeted_status_user_id    2117 non-null   object        \n",
      " 8   retweeted_status_timestamp  2117 non-null   object        \n",
      " 9   rating_numerator            2117 non-null   int64         \n",
      " 10  rating_denominator          2117 non-null   int64         \n",
      " 11  name                        2117 non-null   object        \n",
      " 12  correct_expanded_urls       2117 non-null   object        \n",
      " 13  ratings                     2117 non-null   object        \n",
      " 14  dog_stage                   2117 non-null   object        \n",
      " 15  retweet_count               2117 non-null   int64         \n",
      " 16  favorite_count              2117 non-null   int64         \n",
      "dtypes: datetime64[ns](1), int64(4), object(12)\n",
      "memory usage: 297.7+ KB\n"
     ]
    }
   ],
   "source": [
    "twit_arc.info()"
   ]
  },
  {
   "cell_type": "markdown",
   "id": "147414a2",
   "metadata": {},
   "source": [
    "### Tidiness : predict\n",
    "Extract the correct prediction from predict dataset and add a breed prediction column to twit_arc\n",
    "#### Define\n",
    "- Get accurate predict results from p1, p2, p3 columns using for loop in each row.\n",
    "- Add the column to twit_arc dataset\n",
    "\n",
    "#### Code"
   ]
  },
  {
   "cell_type": "code",
   "execution_count": 49,
   "id": "6ed17d31",
   "metadata": {},
   "outputs": [],
   "source": [
    "dog_predict = []\n",
    "\n",
    "for i in range(len(predict)):\n",
    "    if predict['p1_dog'][i] == True:\n",
    "        dog_predict.append(predict['p1'][i])\n",
    "    elif predict['p2_dog'][i] == True:\n",
    "        dog_predict.append(predict['p2'][i])\n",
    "    elif predict['p3_dog'][i] == True:\n",
    "        dog_predict.append(predict['p3'][i])\n",
    "    else: \n",
    "        dog_predict.append(\"No correct prediction\")"
   ]
  },
  {
   "cell_type": "code",
   "execution_count": 50,
   "id": "d1547d50",
   "metadata": {},
   "outputs": [],
   "source": [
    "predict['dog_predict'] = dog_predict\n",
    "predict_copy = predict[['tweet_id', 'dog_predict']]\n",
    "twit_arc = pd.merge(twit_arc, predict_copy, on = ['tweet_id'], how= 'left')"
   ]
  },
  {
   "cell_type": "markdown",
   "id": "45c2710a",
   "metadata": {},
   "source": [
    "#### Test"
   ]
  },
  {
   "cell_type": "code",
   "execution_count": 51,
   "id": "24a2562b",
   "metadata": {},
   "outputs": [
    {
     "data": {
      "text/html": [
       "<div>\n",
       "<style scoped>\n",
       "    .dataframe tbody tr th:only-of-type {\n",
       "        vertical-align: middle;\n",
       "    }\n",
       "\n",
       "    .dataframe tbody tr th {\n",
       "        vertical-align: top;\n",
       "    }\n",
       "\n",
       "    .dataframe thead th {\n",
       "        text-align: right;\n",
       "    }\n",
       "</style>\n",
       "<table border=\"1\" class=\"dataframe\">\n",
       "  <thead>\n",
       "    <tr style=\"text-align: right;\">\n",
       "      <th></th>\n",
       "      <th>tweet_id</th>\n",
       "      <th>in_reply_to_status_id</th>\n",
       "      <th>in_reply_to_user_id</th>\n",
       "      <th>timestamp</th>\n",
       "      <th>source</th>\n",
       "      <th>text</th>\n",
       "      <th>retweeted_status_id</th>\n",
       "      <th>retweeted_status_user_id</th>\n",
       "      <th>retweeted_status_timestamp</th>\n",
       "      <th>rating_numerator</th>\n",
       "      <th>rating_denominator</th>\n",
       "      <th>name</th>\n",
       "      <th>correct_expanded_urls</th>\n",
       "      <th>ratings</th>\n",
       "      <th>dog_stage</th>\n",
       "      <th>retweet_count</th>\n",
       "      <th>favorite_count</th>\n",
       "      <th>dog_predict</th>\n",
       "    </tr>\n",
       "  </thead>\n",
       "  <tbody>\n",
       "    <tr>\n",
       "      <th>1090</th>\n",
       "      <td>707411934438625280</td>\n",
       "      <td>nan</td>\n",
       "      <td>nan</td>\n",
       "      <td>2016-03-09 03:45:22</td>\n",
       "      <td>Twitter for iPhone</td>\n",
       "      <td>\"I shall trip the big pupper with leash. Big pupper will never see it coming. I am a genius.\" Both 11/10 https://t.co/uQsCJ8pf51</td>\n",
       "      <td>None</td>\n",
       "      <td>None</td>\n",
       "      <td>None</td>\n",
       "      <td>11</td>\n",
       "      <td>10</td>\n",
       "      <td>None</td>\n",
       "      <td>https://twitter.com/dog_rates/status/707411934438625280/photo/1</td>\n",
       "      <td>11/10</td>\n",
       "      <td>pupper</td>\n",
       "      <td>673</td>\n",
       "      <td>2486</td>\n",
       "      <td>Lakeland_terrier</td>\n",
       "    </tr>\n",
       "    <tr>\n",
       "      <th>1031</th>\n",
       "      <td>711743778164514816</td>\n",
       "      <td>nan</td>\n",
       "      <td>nan</td>\n",
       "      <td>2016-03-21 02:38:34</td>\n",
       "      <td>Twitter for iPhone</td>\n",
       "      <td>Meet Roosevelt. He's calculating the best case scenario if he drops out instead of doing math hw. 11/10 relatable af https://t.co/QcSIRDpfVg</td>\n",
       "      <td>None</td>\n",
       "      <td>None</td>\n",
       "      <td>None</td>\n",
       "      <td>11</td>\n",
       "      <td>10</td>\n",
       "      <td>Roosevelt</td>\n",
       "      <td>https://twitter.com/dog_rates/status/711743778164514816/photo/1</td>\n",
       "      <td>11/10</td>\n",
       "      <td>None</td>\n",
       "      <td>1101</td>\n",
       "      <td>3095</td>\n",
       "      <td>Lakeland_terrier</td>\n",
       "    </tr>\n",
       "    <tr>\n",
       "      <th>1101</th>\n",
       "      <td>706681918348251136</td>\n",
       "      <td>nan</td>\n",
       "      <td>nan</td>\n",
       "      <td>2016-03-07 03:24:33</td>\n",
       "      <td>Twitter for iPhone</td>\n",
       "      <td>Say hello to Katie. She's a Mitsubishi Hufflepuff. Curly af. 12/10 I'd do terrible things to acquire such a pup https://t.co/CFPIcGcwJv</td>\n",
       "      <td>None</td>\n",
       "      <td>None</td>\n",
       "      <td>None</td>\n",
       "      <td>12</td>\n",
       "      <td>10</td>\n",
       "      <td>Katie</td>\n",
       "      <td>https://twitter.com/dog_rates/status/706681918348251136/photo/1</td>\n",
       "      <td>12/10</td>\n",
       "      <td>None</td>\n",
       "      <td>1103</td>\n",
       "      <td>3627</td>\n",
       "      <td>Toy_poodle</td>\n",
       "    </tr>\n",
       "  </tbody>\n",
       "</table>\n",
       "</div>"
      ],
      "text/plain": [
       "                tweet_id in_reply_to_status_id in_reply_to_user_id  \\\n",
       "1090  707411934438625280                   nan                 nan   \n",
       "1031  711743778164514816                   nan                 nan   \n",
       "1101  706681918348251136                   nan                 nan   \n",
       "\n",
       "               timestamp              source  \\\n",
       "1090 2016-03-09 03:45:22  Twitter for iPhone   \n",
       "1031 2016-03-21 02:38:34  Twitter for iPhone   \n",
       "1101 2016-03-07 03:24:33  Twitter for iPhone   \n",
       "\n",
       "                                                                                                                                              text  \\\n",
       "1090              \"I shall trip the big pupper with leash. Big pupper will never see it coming. I am a genius.\" Both 11/10 https://t.co/uQsCJ8pf51   \n",
       "1031  Meet Roosevelt. He's calculating the best case scenario if he drops out instead of doing math hw. 11/10 relatable af https://t.co/QcSIRDpfVg   \n",
       "1101       Say hello to Katie. She's a Mitsubishi Hufflepuff. Curly af. 12/10 I'd do terrible things to acquire such a pup https://t.co/CFPIcGcwJv   \n",
       "\n",
       "     retweeted_status_id retweeted_status_user_id retweeted_status_timestamp  \\\n",
       "1090                None                     None                       None   \n",
       "1031                None                     None                       None   \n",
       "1101                None                     None                       None   \n",
       "\n",
       "      rating_numerator  rating_denominator       name  \\\n",
       "1090                11                  10       None   \n",
       "1031                11                  10  Roosevelt   \n",
       "1101                12                  10      Katie   \n",
       "\n",
       "                                                correct_expanded_urls ratings  \\\n",
       "1090  https://twitter.com/dog_rates/status/707411934438625280/photo/1   11/10   \n",
       "1031  https://twitter.com/dog_rates/status/711743778164514816/photo/1   11/10   \n",
       "1101  https://twitter.com/dog_rates/status/706681918348251136/photo/1   12/10   \n",
       "\n",
       "     dog_stage  retweet_count  favorite_count       dog_predict  \n",
       "1090    pupper            673            2486  Lakeland_terrier  \n",
       "1031      None           1101            3095  Lakeland_terrier  \n",
       "1101      None           1103            3627        Toy_poodle  "
      ]
     },
     "execution_count": 51,
     "metadata": {},
     "output_type": "execute_result"
    }
   ],
   "source": [
    "twit_arc.sample(3)"
   ]
  },
  {
   "cell_type": "markdown",
   "id": "700d85d1",
   "metadata": {},
   "source": [
    "## Analysis"
   ]
  },
  {
   "cell_type": "code",
   "execution_count": 54,
   "id": "49762cad",
   "metadata": {},
   "outputs": [],
   "source": [
    "import matplotlib.pyplot as plt\n",
    "import seaborn as sns\n",
    "sns.set_theme(style=\"whitegrid\")\n",
    "%matplotlib inline"
   ]
  },
  {
   "cell_type": "markdown",
   "id": "97529b12",
   "metadata": {},
   "source": [
    "### Q1. What are the 10 most popular breed?"
   ]
  },
  {
   "cell_type": "code",
   "execution_count": 55,
   "id": "e7058814",
   "metadata": {},
   "outputs": [
    {
     "data": {
      "image/png": "[encoded data removed]",
      "text/plain": [
       "<Figure size 864x504 with 1 Axes>"
      ]
     },
     "metadata": {
      "needs_background": "light"
     },
     "output_type": "display_data"
    }
   ],
   "source": [
    "popular_dog = twit_arc.dog_predict.value_counts()[:10]\n",
    "plt.figure(figsize = (12,7))\n",
    "plt.bar(x = popular_dog.index, height= popular_dog)\n",
    "plt.title(\"10 Most Popular Breed\", size = 20)\n",
    "plt.ylabel(\"Number of Tweet\", size = 15)\n",
    "plt.xlabel(\"Breed\", size = 15)\n",
    "plt.xticks(rotation= 45, size = 13)\n",
    "plt.yticks(size = 13);"
   ]
  },
  {
   "cell_type": "markdown",
   "id": "4c6f7d4f",
   "metadata": {},
   "source": [
    "Based on the number of dog breed that has been posted, we have made a bar chart of the breeds from top 1 to 10. Even though there were more than 300+ images that were not properly predicted, we have still found out that Golden Retriever is the most popular breed on the \"We Rate Dog\" account.\n",
    "\n",
    "### Q2. What are the 10 most common name?"
   ]
  },
  {
   "cell_type": "code",
   "execution_count": 57,
   "id": "669ab7a9",
   "metadata": {},
   "outputs": [
    {
     "data": {
      "image/png": "[encoded data removed]",
      "text/plain": [
       "<Figure size 648x648 with 1 Axes>"
      ]
     },
     "metadata": {},
     "output_type": "display_data"
    }
   ],
   "source": [
    "popular_name = twit_arc.name.value_counts()[:10]\n",
    "plt.figure(figsize = (9,9))\n",
    "plt.title(\"10 Most Popular Dog Names\", size = 20)\n",
    "plt.pie(popular_name, labels = popular_name.index, autopct='%1.1f%%', textprops={'fontsize': 13});"
   ]
  },
  {
   "cell_type": "markdown",
   "id": "04d483c7",
   "metadata": {},
   "source": [
    "Just like the most popular breed, most of the data (88.1%) were not properly recorded. We do know that Lucy and Charlie are the most popular names for female & male dogs. The rest of the names had very small difference though - name in 10th place (Lola) is only 0.5% away from the winners. Moreover there are multiple names that took the same place. Therefore we know that 9 most common dog names have similar popularity.\n",
    "\n",
    "### Q3. What are the 10 most frequent rating?"
   ]
  },
  {
   "cell_type": "code",
   "execution_count": 58,
   "id": "b7664422",
   "metadata": {},
   "outputs": [
    {
     "data": {
      "image/png": "[encoded data removed]",
      "text/plain": [
       "<Figure size 864x504 with 1 Axes>"
      ]
     },
     "metadata": {
      "needs_background": "light"
     },
     "output_type": "display_data"
    }
   ],
   "source": [
    "frequent_rating = twit_arc.ratings.value_counts()[:10]\n",
    "plt.figure(figsize = (12,7))\n",
    "plt.barh(y = frequent_rating.index, width= frequent_rating)\n",
    "plt.title(\"Top 10 Frequent Rating\", size = 20)\n",
    "plt.ylabel(\"Rating\", size = 15)\n",
    "plt.xlabel(\"Number of Tweet\", size = 15)\n",
    "plt.xticks(size = 13)\n",
    "plt.yticks(size = 13)\n",
    "plt.gca().invert_yaxis()\n",
    "\n",
    "for index, value in enumerate(frequent_rating):\n",
    "    plt.text(value, index, str(value), size = 13);"
   ]
  },
  {
   "cell_type": "markdown",
   "id": "782fe64c",
   "metadata": {},
   "source": [
    "Just as WeRateDog is famous for the unique the rating system that numerator is bigger than denominator, we can see that the most popular rating is 12/10. Most of ratings (91.43%) had bigger denominators than numerator. What's interesting is that 10/10, the very \"normal\" rating, is in the 2nd place as well. It's easy to find that WeRateDogs tend to give generous ratings to most of the dogs they post."
   ]
  }
 ],
 "metadata": {
  "kernelspec": {
   "display_name": "Python 3",
   "language": "python",
   "name": "python3"
  },
  "language_info": {
   "codemirror_mode": {
    "name": "ipython",
    "version": 3
   },
   "file_extension": ".py",
   "mimetype": "text/x-python",
   "name": "python",
   "nbconvert_exporter": "python",
   "pygments_lexer": "ipython3",
   "version": "3.8.5"
  }
 },
 "nbformat": 4,
 "nbformat_minor": 5
}
